{
  "nbformat": 4,
  "nbformat_minor": 0,
  "metadata": {
    "colab": {
      "provenance": [],
      "include_colab_link": true
    },
    "kernelspec": {
      "name": "python3",
      "display_name": "Python 3"
    },
    "language_info": {
      "name": "python"
    }
  },
  "cells": [
    {
      "cell_type": "markdown",
      "metadata": {
        "id": "view-in-github",
        "colab_type": "text"
      },
      "source": [
        "<a href=\"https://colab.research.google.com/github/denko5/DAY-1-CHALLENGE/blob/main/Capstone2024_SEIKANI.ipynb\" target=\"_parent\"><img src=\"https://colab.research.google.com/assets/colab-badge.svg\" alt=\"Open In Colab\"/></a>"
      ]
    },
    {
      "cell_type": "markdown",
      "source": [
        "\n",
        "Loading Ext.\n",
        "\n"
      ],
      "metadata": {
        "id": "D2XCj6vRv43J"
      }
    },
    {
      "cell_type": "code",
      "execution_count": null,
      "metadata": {
        "id": "613kQBLAvqK2"
      },
      "outputs": [],
      "source": [
        "%load_ext sql"
      ]
    },
    {
      "cell_type": "markdown",
      "source": [
        "Create a DB"
      ],
      "metadata": {
        "id": "h3g0AOj8waCX"
      }
    },
    {
      "cell_type": "code",
      "source": [
        "%%sql sqlite:///studentspending.db"
      ],
      "metadata": {
        "id": "lweau1KCwfCX"
      },
      "execution_count": null,
      "outputs": []
    },
    {
      "cell_type": "markdown",
      "source": [
        " Create a table Student Details"
      ],
      "metadata": {
        "id": "eGBYLTG8w59L"
      }
    },
    {
      "cell_type": "code",
      "source": [
        "%%sql CREATE TABLE Student_Details (\n",
        "    student_id INT PRIMARY KEY,\n",
        "    age INT,\n",
        "    gender VARCHAR (12),\n",
        "    year_in_school VARCHAR (10),\n",
        "    major VARCHAR (20)\n",
        ");"
      ],
      "metadata": {
        "colab": {
          "base_uri": "https://localhost:8080/"
        },
        "id": "_dMHnGmo4ToK",
        "outputId": "9f624645-f1e4-4a99-8c44-3bb174f08124"
      },
      "execution_count": null,
      "outputs": [
        {
          "output_type": "stream",
          "name": "stdout",
          "text": [
            " * sqlite:///studentspending.db\n",
            "Done.\n"
          ]
        },
        {
          "output_type": "execute_result",
          "data": {
            "text/plain": [
              "[]"
            ]
          },
          "metadata": {},
          "execution_count": 4
        }
      ]
    },
    {
      "cell_type": "markdown",
      "source": [
        "Insert Data Into Student Details"
      ],
      "metadata": {
        "id": "EW71LXlr56FT"
      }
    },
    {
      "cell_type": "code",
      "source": [
        "%%sql INSERT INTO Student_Details (student_id, age, gender, year_in_school, major) VALUES\n",
        "(1, 19, 'Non-binary', 'Freshman', 'Psychology'),\n",
        "(2, 24, 'Female', 'Junior', 'Economics'),\n",
        "(3, 24, 'Non-binary', 'Junior', 'Economics'),\n",
        "(4, 23, 'Female', 'Senior', 'Computer Science'),\n",
        "(5, 20, 'Female', 'Senior', 'Computer Science'),\n",
        "(6, 25, 'Non-binary', 'Sophomore', 'Computer Science'),\n",
        "(7, 23, 'Female', 'Freshman', 'Engineering'),\n",
        "(8, 23, 'Female', 'Junior', 'Economics'),\n",
        "(9, 22, 'Non-binary', 'Senior', 'Computer Science'),\n",
        "(10, 18, 'Female', 'Junior', 'Computer Science'),\n",
        "(11, 23, 'Male', 'Junior', 'Biology'),\n",
        "(12, 25, 'Male', 'Freshman', 'Engineering'),\n",
        "(13, 21, 'Male', 'Sophomore', 'Economics'),\n",
        "(14, 19, 'Female', 'Junior', 'Biology'),\n",
        "(15, 24, 'Non-binary', 'Freshman', 'Economics'),\n",
        "(16, 22, 'Non-binary', 'Sophomore', 'Computer Science'),\n",
        "(17, 23, 'Female', 'Freshman', 'Psychology'),\n",
        "(18, 21, 'Female', 'Freshman', 'Computer Science'),\n",
        "(19, 19, 'Female', 'Sophomore', 'Psychology'),\n",
        "(20, 20, 'Female', 'Senior', 'Engineering');"
      ],
      "metadata": {
        "colab": {
          "base_uri": "https://localhost:8080/"
        },
        "id": "PkK23REn6Azm",
        "outputId": "dd52cbf8-6082-4425-d053-bec001139c70"
      },
      "execution_count": null,
      "outputs": [
        {
          "output_type": "stream",
          "name": "stdout",
          "text": [
            " * sqlite:///studentspending.db\n",
            "20 rows affected.\n"
          ]
        },
        {
          "output_type": "execute_result",
          "data": {
            "text/plain": [
              "[]"
            ]
          },
          "metadata": {},
          "execution_count": 5
        }
      ]
    },
    {
      "cell_type": "markdown",
      "source": [
        " Create Income Table"
      ],
      "metadata": {
        "id": "vHAe2iho9i4i"
      }
    },
    {
      "cell_type": "code",
      "source": [
        "%%sql CREATE TABLE Income (\n",
        "    monthly_income INT PRIMARY KEY,\n",
        "Financial_aid INT\n",
        "\n",
        ");\n"
      ],
      "metadata": {
        "colab": {
          "base_uri": "https://localhost:8080/"
        },
        "id": "BCv17-mi9niK",
        "outputId": "35730ec2-fe87-4de0-b25d-7eda9507a6e2"
      },
      "execution_count": null,
      "outputs": [
        {
          "output_type": "stream",
          "name": "stdout",
          "text": [
            " * sqlite:///studentspending.db\n",
            "Done.\n"
          ]
        },
        {
          "output_type": "execute_result",
          "data": {
            "text/plain": [
              "[]"
            ]
          },
          "metadata": {},
          "execution_count": 22
        }
      ]
    },
    {
      "cell_type": "code",
      "source": [
        "%%sql DROP TABLE Income"
      ],
      "metadata": {
        "colab": {
          "base_uri": "https://localhost:8080/"
        },
        "id": "JX63UOoI-kdZ",
        "outputId": "9167a5ae-f811-44d0-e88e-436c937855e2"
      },
      "execution_count": null,
      "outputs": [
        {
          "output_type": "stream",
          "name": "stdout",
          "text": [
            " * sqlite:///studentspending.db\n",
            "Done.\n"
          ]
        },
        {
          "output_type": "execute_result",
          "data": {
            "text/plain": [
              "[]"
            ]
          },
          "metadata": {},
          "execution_count": 23
        }
      ]
    },
    {
      "cell_type": "markdown",
      "source": [
        "Recreate Table Income"
      ],
      "metadata": {
        "id": "FfYWhlh5-r1l"
      }
    },
    {
      "cell_type": "code",
      "source": [
        "%%sql\n",
        "CREATE TABLE Income (\n",
        "    monthly_income INT PRIMARY KEY,\n",
        "    financial_aid INT\n",
        ");\n"
      ],
      "metadata": {
        "colab": {
          "base_uri": "https://localhost:8080/"
        },
        "id": "T6v6jdx8-xYC",
        "outputId": "3874a256-b9ab-47b8-f640-c6e22caad19f"
      },
      "execution_count": null,
      "outputs": [
        {
          "output_type": "stream",
          "name": "stdout",
          "text": [
            " * sqlite:///studentspending.db\n",
            "Done.\n"
          ]
        },
        {
          "output_type": "execute_result",
          "data": {
            "text/plain": [
              "[]"
            ]
          },
          "metadata": {},
          "execution_count": 24
        }
      ]
    },
    {
      "cell_type": "markdown",
      "source": [
        " Insert Data Into Income"
      ],
      "metadata": {
        "id": "g-Ia4_nl_eja"
      }
    },
    {
      "cell_type": "code",
      "source": [
        "%%sql\n",
        "INSERT INTO Income (monthly_income, financial_aid) VALUES\n",
        "(958, 270),\n",
        "(1006, 875),\n",
        "(734, 928),\n",
        "(617, 265),\n",
        "(810, 522),\n",
        "(523, 790),\n",
        "(1354, 69),\n",
        "(631, 748),\n",
        "(1402, 248),\n",
        "(1423, 74),\n",
        "(762, 615),\n",
        "(1068, 19),\n",
        "(719, 540),\n",
        "(1176, 859),\n",
        "(1496, 75),\n",
        "(1227, 26),\n",
        "(1419, 237),\n",
        "(1454, 851),\n",
        "(1487, 311),\n",
        "(1157, 401);\n"
      ],
      "metadata": {
        "colab": {
          "base_uri": "https://localhost:8080/"
        },
        "id": "eYa_qmqu_jO2",
        "outputId": "cb8868b8-1ab8-48fa-c31e-d53edb9d7c70"
      },
      "execution_count": null,
      "outputs": [
        {
          "output_type": "stream",
          "name": "stdout",
          "text": [
            " * sqlite:///studentspending.db\n",
            "(sqlite3.OperationalError) no such table: Income\n",
            "[SQL: INSERT INTO Income (monthly_income, financial_aid) VALUES\n",
            "(958, 270),\n",
            "(1006, 875),\n",
            "(734, 928),\n",
            "(617, 265),\n",
            "(810, 522),\n",
            "(523, 790),\n",
            "(1354, 69),\n",
            "(631, 748),\n",
            "(1402, 248),\n",
            "(1423, 74),\n",
            "(762, 615),\n",
            "(1068, 19),\n",
            "(719, 540),\n",
            "(1176, 859),\n",
            "(1496, 75),\n",
            "(1227, 26),\n",
            "(1419, 237),\n",
            "(1454, 851),\n",
            "(1487, 311),\n",
            "(1157, 401);]\n",
            "(Background on this error at: https://sqlalche.me/e/20/e3q8)\n"
          ]
        }
      ]
    },
    {
      "cell_type": "markdown",
      "source": [
        " Create Table Basic Necesities."
      ],
      "metadata": {
        "id": "541puKQOAJn4"
      }
    },
    {
      "cell_type": "code",
      "source": [
        "%%sql CREATE TABLE Basic_Necesities (\n",
        "      housing INT\n",
        "    food INT\n",
        "      transportation INT\n",
        "\n",
        ");\n"
      ],
      "metadata": {
        "colab": {
          "base_uri": "https://localhost:8080/"
        },
        "id": "RfLdV7IKAQxX",
        "outputId": "d689fc76-c8f0-4a5e-aedb-2c7843a60252"
      },
      "execution_count": null,
      "outputs": [
        {
          "output_type": "stream",
          "name": "stdout",
          "text": [
            " * sqlite:///studentspending.db\n",
            "Done.\n"
          ]
        },
        {
          "output_type": "execute_result",
          "data": {
            "text/plain": [
              "[]"
            ]
          },
          "metadata": {},
          "execution_count": 12
        }
      ]
    },
    {
      "cell_type": "code",
      "source": [
        "%%sql DROP TABLE Basic_Necesities"
      ],
      "metadata": {
        "colab": {
          "base_uri": "https://localhost:8080/"
        },
        "id": "binSQ6ByA0Es",
        "outputId": "53de90d8-5fbd-4ae9-8957-1c1420096fa6"
      },
      "execution_count": null,
      "outputs": [
        {
          "output_type": "stream",
          "name": "stdout",
          "text": [
            " * sqlite:///studentspending.db\n",
            "Done.\n"
          ]
        },
        {
          "output_type": "execute_result",
          "data": {
            "text/plain": [
              "[]"
            ]
          },
          "metadata": {},
          "execution_count": 13
        }
      ]
    },
    {
      "cell_type": "markdown",
      "source": [
        " Recreate Table Basic Necesities"
      ],
      "metadata": {
        "id": "tpKFyv2zA70J"
      }
    },
    {
      "cell_type": "code",
      "source": [
        "%%sql CREATE TABLE Basic_Necesities (\n",
        "    housing INT PRIMARY KEY,\n",
        "    food INT,\n",
        "      transportation INT\n",
        ");"
      ],
      "metadata": {
        "colab": {
          "base_uri": "https://localhost:8080/"
        },
        "id": "HbQcjQwIBCG3",
        "outputId": "43a57e7c-e02f-4905-b8db-3c9bd9cab7f6"
      },
      "execution_count": null,
      "outputs": [
        {
          "output_type": "stream",
          "name": "stdout",
          "text": [
            " * sqlite:///studentspending.db\n",
            "Done.\n"
          ]
        },
        {
          "output_type": "execute_result",
          "data": {
            "text/plain": [
              "[]"
            ]
          },
          "metadata": {},
          "execution_count": 14
        }
      ]
    },
    {
      "cell_type": "markdown",
      "source": [
        " Insert Into Basic_Necesities."
      ],
      "metadata": {
        "id": "_9piIMilBvlj"
      }
    },
    {
      "cell_type": "code",
      "source": [
        "%%sql\n",
        "INSERT INTO Basic_Necesities (housing, food, transportation) VALUES\n",
        "(709, 296, 123),\n",
        "(557, 365, 85),\n",
        "(666, 220, 137),\n",
        "(652, 289, 114),\n",
        "(825, 372, 168),\n",
        "(413, 386, 122),\n",
        "(812, 398, 101),\n",
        "(571, 269, 92),\n",
        "(599, 354, 82),\n",
        "(626, 249, 117),\n",
        "(660, 262, 58),\n",
        "(734, 243, 200),\n",
        "(894, 280, 120),\n",
        "(628, 234, 50),\n",
        "(657, 151, 63),\n",
        "(884, 328, 167),\n",
        "(883, 361, 200),\n",
        "(754, 357, 110),\n",
        "(188, 292, 69),\n",
        "(886, 196, 131);\n"
      ],
      "metadata": {
        "colab": {
          "base_uri": "https://localhost:8080/"
        },
        "id": "89fBcSMuB0eG",
        "outputId": "d84b6b7c-b028-4210-c81b-aa72f0bbd589"
      },
      "execution_count": null,
      "outputs": [
        {
          "output_type": "stream",
          "name": "stdout",
          "text": [
            " * sqlite:///studentspending.db\n",
            "20 rows affected.\n"
          ]
        },
        {
          "output_type": "execute_result",
          "data": {
            "text/plain": [
              "[]"
            ]
          },
          "metadata": {},
          "execution_count": 15
        }
      ]
    },
    {
      "cell_type": "code",
      "source": [
        "%%sql\n",
        "UPDATE\n",
        "SET age = 30\n",
        "WHERE id = 1;"
      ],
      "metadata": {
        "id": "Stg55YjmFlpF"
      },
      "execution_count": null,
      "outputs": []
    },
    {
      "cell_type": "code",
      "source": [
        "%%sql SELECT * FROM  Basic_Necesities"
      ],
      "metadata": {
        "colab": {
          "base_uri": "https://localhost:8080/",
          "height": 493
        },
        "id": "3hi52pX3E3hv",
        "outputId": "19825563-01cd-4dc4-c821-4ebe831d24a9"
      },
      "execution_count": null,
      "outputs": [
        {
          "output_type": "stream",
          "name": "stdout",
          "text": [
            " * sqlite:///studentspending.db\n",
            "Done.\n"
          ]
        },
        {
          "output_type": "execute_result",
          "data": {
            "text/plain": [
              "[(709, 296, 123),\n",
              " (557, 365, 85),\n",
              " (666, 220, 137),\n",
              " (652, 289, 114),\n",
              " (825, 372, 168),\n",
              " (413, 386, 122),\n",
              " (812, 398, 101),\n",
              " (571, 269, 92),\n",
              " (599, 354, 82),\n",
              " (626, 249, 117),\n",
              " (660, 262, 58),\n",
              " (734, 243, 200),\n",
              " (894, 280, 120),\n",
              " (628, 234, 50),\n",
              " (657, 151, 63),\n",
              " (884, 328, 167),\n",
              " (883, 361, 200),\n",
              " (754, 357, 110),\n",
              " (188, 292, 69),\n",
              " (886, 196, 131)]"
            ],
            "text/html": [
              "<table>\n",
              "    <thead>\n",
              "        <tr>\n",
              "            <th>housing</th>\n",
              "            <th>food</th>\n",
              "            <th>transportation</th>\n",
              "        </tr>\n",
              "    </thead>\n",
              "    <tbody>\n",
              "        <tr>\n",
              "            <td>709</td>\n",
              "            <td>296</td>\n",
              "            <td>123</td>\n",
              "        </tr>\n",
              "        <tr>\n",
              "            <td>557</td>\n",
              "            <td>365</td>\n",
              "            <td>85</td>\n",
              "        </tr>\n",
              "        <tr>\n",
              "            <td>666</td>\n",
              "            <td>220</td>\n",
              "            <td>137</td>\n",
              "        </tr>\n",
              "        <tr>\n",
              "            <td>652</td>\n",
              "            <td>289</td>\n",
              "            <td>114</td>\n",
              "        </tr>\n",
              "        <tr>\n",
              "            <td>825</td>\n",
              "            <td>372</td>\n",
              "            <td>168</td>\n",
              "        </tr>\n",
              "        <tr>\n",
              "            <td>413</td>\n",
              "            <td>386</td>\n",
              "            <td>122</td>\n",
              "        </tr>\n",
              "        <tr>\n",
              "            <td>812</td>\n",
              "            <td>398</td>\n",
              "            <td>101</td>\n",
              "        </tr>\n",
              "        <tr>\n",
              "            <td>571</td>\n",
              "            <td>269</td>\n",
              "            <td>92</td>\n",
              "        </tr>\n",
              "        <tr>\n",
              "            <td>599</td>\n",
              "            <td>354</td>\n",
              "            <td>82</td>\n",
              "        </tr>\n",
              "        <tr>\n",
              "            <td>626</td>\n",
              "            <td>249</td>\n",
              "            <td>117</td>\n",
              "        </tr>\n",
              "        <tr>\n",
              "            <td>660</td>\n",
              "            <td>262</td>\n",
              "            <td>58</td>\n",
              "        </tr>\n",
              "        <tr>\n",
              "            <td>734</td>\n",
              "            <td>243</td>\n",
              "            <td>200</td>\n",
              "        </tr>\n",
              "        <tr>\n",
              "            <td>894</td>\n",
              "            <td>280</td>\n",
              "            <td>120</td>\n",
              "        </tr>\n",
              "        <tr>\n",
              "            <td>628</td>\n",
              "            <td>234</td>\n",
              "            <td>50</td>\n",
              "        </tr>\n",
              "        <tr>\n",
              "            <td>657</td>\n",
              "            <td>151</td>\n",
              "            <td>63</td>\n",
              "        </tr>\n",
              "        <tr>\n",
              "            <td>884</td>\n",
              "            <td>328</td>\n",
              "            <td>167</td>\n",
              "        </tr>\n",
              "        <tr>\n",
              "            <td>883</td>\n",
              "            <td>361</td>\n",
              "            <td>200</td>\n",
              "        </tr>\n",
              "        <tr>\n",
              "            <td>754</td>\n",
              "            <td>357</td>\n",
              "            <td>110</td>\n",
              "        </tr>\n",
              "        <tr>\n",
              "            <td>188</td>\n",
              "            <td>292</td>\n",
              "            <td>69</td>\n",
              "        </tr>\n",
              "        <tr>\n",
              "            <td>886</td>\n",
              "            <td>196</td>\n",
              "            <td>131</td>\n",
              "        </tr>\n",
              "    </tbody>\n",
              "</table>"
            ]
          },
          "metadata": {},
          "execution_count": 16
        }
      ]
    },
    {
      "cell_type": "markdown",
      "source": [],
      "metadata": {
        "id": "ZCBLl2rREkHU"
      }
    },
    {
      "cell_type": "markdown",
      "source": [
        "Create Table Academic Expenses"
      ],
      "metadata": {
        "id": "I6n4YZZJFZBQ"
      }
    },
    {
      "cell_type": "markdown",
      "source": [
        "I"
      ],
      "metadata": {
        "id": "tPDzbSUs-KP1"
      }
    },
    {
      "cell_type": "code",
      "source": [
        "%%sql CREATE TABLE Academic_Expenses (\n",
        "    tuition INT PRIMARY KEY,\n",
        "     books_supplies INT\n",
        ");"
      ],
      "metadata": {
        "colab": {
          "base_uri": "https://localhost:8080/"
        },
        "id": "Hy-QsPRHFhG1",
        "outputId": "fc57c284-cacb-44ee-ea8e-05b0b4d043eb"
      },
      "execution_count": null,
      "outputs": [
        {
          "output_type": "stream",
          "name": "stdout",
          "text": [
            " * sqlite:///studentspending.db\n",
            "Done.\n"
          ]
        },
        {
          "output_type": "execute_result",
          "data": {
            "text/plain": [
              "[]"
            ]
          },
          "metadata": {},
          "execution_count": 17
        }
      ]
    },
    {
      "cell_type": "markdown",
      "source": [
        " Insert Into Academic Expenses"
      ],
      "metadata": {
        "id": "2lq_sMG5GBM5"
      }
    },
    {
      "cell_type": "code",
      "source": [
        "%%sql\n",
        "INSERT INTO Academic_Expenses (tuition, books_supplies) VALUES\n",
        "(5939, 188),\n",
        "(4908, 252),\n",
        "(3051, 99),\n",
        "(4935, 223),\n",
        "(3887, 194),\n",
        "(3151, 131),\n",
        "(4973, 213),\n",
        "(3966, 251),\n",
        "(5638, 155),\n",
        "(3977, 123),\n",
        "(4093, 183),\n",
        "(5138, 228),\n",
        "(4863, 126),\n",
        "(5201, 274),\n",
        "(5301, 92),\n",
        "(4175, 175),\n",
        "(5450, 141),\n",
        "(3538, 188),\n",
        "(4401, 51),\n",
        "(3131, 216);\n"
      ],
      "metadata": {
        "colab": {
          "base_uri": "https://localhost:8080/"
        },
        "id": "3jbKtrIyGFwU",
        "outputId": "9047f3ab-ed81-4d81-b6ca-757b2c6c752a"
      },
      "execution_count": null,
      "outputs": [
        {
          "output_type": "stream",
          "name": "stdout",
          "text": [
            " * sqlite:///studentspending.db\n",
            "20 rows affected.\n"
          ]
        },
        {
          "output_type": "execute_result",
          "data": {
            "text/plain": [
              "[]"
            ]
          },
          "metadata": {},
          "execution_count": 18
        }
      ]
    },
    {
      "cell_type": "markdown",
      "source": [
        " Create Table Personal Expenses"
      ],
      "metadata": {
        "id": "rLxLGgvSG9St"
      }
    },
    {
      "cell_type": "code",
      "source": [
        "%%sql CREATE TABLE Personal_Expenses (\n",
        "    perosnal_care INT PRIMARY KEY,\n",
        "health_wellness INT\n",
        ");"
      ],
      "metadata": {
        "colab": {
          "base_uri": "https://localhost:8080/"
        },
        "id": "rYKZUy9FHK40",
        "outputId": "d1fe10fc-1797-4478-995c-3da5b4adc34d"
      },
      "execution_count": null,
      "outputs": [
        {
          "output_type": "stream",
          "name": "stdout",
          "text": [
            " * sqlite:///studentspending.db\n",
            "Done.\n"
          ]
        },
        {
          "output_type": "execute_result",
          "data": {
            "text/plain": [
              "[]"
            ]
          },
          "metadata": {},
          "execution_count": 19
        }
      ]
    },
    {
      "cell_type": "markdown",
      "source": [
        " Insert into Personal Expenses"
      ],
      "metadata": {
        "id": "uJhMH5WuH9j4"
      }
    },
    {
      "cell_type": "code",
      "source": [
        "%%sql\n",
        "INSERT INTO Personal_Expenses (perosnal_care, health_wellness) VALUES\n",
        "(78, 127),\n",
        "(92, 129),\n",
        "(23, 112),\n",
        "(30, 105),\n",
        "(71, 71),\n",
        "(35, 108),\n",
        "(38, 117),\n",
        "(90, 56),\n",
        "(41, 172),\n",
        "(74, 34),\n",
        "(21, 66),\n",
        "(57, 193),\n",
        "(50, 113),\n",
        "(77, 199),\n",
        "(64, 50),\n",
        "(96, 154),\n",
        "(22, 185),\n",
        "(24, 74),\n",
        "(60, 181),\n",
        "(39, 39);\n"
      ],
      "metadata": {
        "colab": {
          "base_uri": "https://localhost:8080/"
        },
        "id": "wqCbavxRICwS",
        "outputId": "03c481b5-e074-4ae0-d45f-c65a1c6d7c0f"
      },
      "execution_count": null,
      "outputs": [
        {
          "output_type": "stream",
          "name": "stdout",
          "text": [
            " * sqlite:///studentspending.db\n",
            "20 rows affected.\n"
          ]
        },
        {
          "output_type": "execute_result",
          "data": {
            "text/plain": [
              "[]"
            ]
          },
          "metadata": {},
          "execution_count": 20
        }
      ]
    },
    {
      "cell_type": "markdown",
      "source": [
        "Create Table Payment Method"
      ],
      "metadata": {
        "id": "e22u24XmIwvi"
      }
    },
    {
      "cell_type": "code",
      "source": [
        "%%sql CREATE TABLE Payment_method(\n",
        "                    student_id INT PRIMARY KEY,\n",
        "                    preffered_payment_method VARCHAR (20),\n",
        "                    FOREIGN KEY (student_id) references Student_Details(student_id) ON DELETE SET NULL\n",
        "\n",
        ");"
      ],
      "metadata": {
        "colab": {
          "base_uri": "https://localhost:8080/"
        },
        "id": "MhDv1YgzI4Hu",
        "outputId": "4685fcde-dcda-4631-b601-c4a33ca544d7"
      },
      "execution_count": null,
      "outputs": [
        {
          "output_type": "stream",
          "name": "stdout",
          "text": [
            " * sqlite:///studentspending.db\n",
            "Done.\n"
          ]
        },
        {
          "output_type": "execute_result",
          "data": {
            "text/plain": [
              "[]"
            ]
          },
          "metadata": {},
          "execution_count": 21
        }
      ]
    }
  ]
}